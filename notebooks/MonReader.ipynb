{
  "nbformat": 4,
  "nbformat_minor": 0,
  "metadata": {
    "colab": {
      "provenance": [],
      "authorship_tag": "ABX9TyMrlOBmj+cFgR2mZrCMGewX",
      "include_colab_link": true
    },
    "kernelspec": {
      "name": "python3",
      "display_name": "Python 3"
    },
    "language_info": {
      "name": "python"
    }
  },
  "cells": [
    {
      "cell_type": "markdown",
      "metadata": {
        "id": "view-in-github",
        "colab_type": "text"
      },
      "source": [
        "<a href=\"https://colab.research.google.com/github/Usama-zia/MonReader/blob/master/notebooks/MonReader.ipynb\" target=\"_parent\"><img src=\"https://colab.research.google.com/assets/colab-badge.svg\" alt=\"Open In Colab\"/></a>"
      ]
    },
    {
      "cell_type": "markdown",
      "source": [
        "## Import Libraries and Load Dataset"
      ],
      "metadata": {
        "id": "v1VczerV14qr"
      }
    },
    {
      "cell_type": "code",
      "execution_count": null,
      "metadata": {
        "colab": {
          "base_uri": "https://localhost:8080/"
        },
        "id": "apVmJ3FW1yEr",
        "outputId": "3557f8d3-5e34-4884-b88f-34b4fb2cb0fd"
      },
      "outputs": [
        {
          "output_type": "stream",
          "name": "stdout",
          "text": [
            "Found existing installation: gdown 4.4.0\n",
            "Uninstalling gdown-4.4.0:\n",
            "  Successfully uninstalled gdown-4.4.0\n",
            "Looking in indexes: https://pypi.org/simple, https://us-python.pkg.dev/colab-wheels/public/simple/\n",
            "Collecting gdown\n",
            "  Downloading gdown-4.5.4-py3-none-any.whl (14 kB)\n",
            "Requirement already satisfied: filelock in /usr/local/lib/python3.7/dist-packages (from gdown) (3.8.0)\n",
            "Requirement already satisfied: requests[socks] in /usr/local/lib/python3.7/dist-packages (from gdown) (2.23.0)\n",
            "Requirement already satisfied: tqdm in /usr/local/lib/python3.7/dist-packages (from gdown) (4.64.1)\n",
            "Requirement already satisfied: six in /usr/local/lib/python3.7/dist-packages (from gdown) (1.15.0)\n",
            "Requirement already satisfied: beautifulsoup4 in /usr/local/lib/python3.7/dist-packages (from gdown) (4.6.3)\n",
            "Requirement already satisfied: idna<3,>=2.5 in /usr/local/lib/python3.7/dist-packages (from requests[socks]->gdown) (2.10)\n",
            "Requirement already satisfied: urllib3!=1.25.0,!=1.25.1,<1.26,>=1.21.1 in /usr/local/lib/python3.7/dist-packages (from requests[socks]->gdown) (1.24.3)\n",
            "Requirement already satisfied: certifi>=2017.4.17 in /usr/local/lib/python3.7/dist-packages (from requests[socks]->gdown) (2022.9.24)\n",
            "Requirement already satisfied: chardet<4,>=3.0.2 in /usr/local/lib/python3.7/dist-packages (from requests[socks]->gdown) (3.0.4)\n",
            "Requirement already satisfied: PySocks!=1.5.7,>=1.5.6 in /usr/local/lib/python3.7/dist-packages (from requests[socks]->gdown) (1.7.1)\n",
            "Installing collected packages: gdown\n",
            "Successfully installed gdown-4.5.4\n",
            "gdown 4.5.4 at /usr/local/lib/python3.7/dist-packages\n",
            "2.9.2\n"
          ]
        }
      ],
      "source": [
        "#Importing Libraries \n",
        "import numpy as np\n",
        "import pandas as pd\n",
        "import matplotlib.pyplot as plt\n",
        "\n",
        "import shutil\n",
        "import os\n",
        "\n",
        "import PIL\n",
        "import PIL.Image\n",
        "import tensorflow as tf\n",
        "import tensorflow_datasets as tfds\n",
        "from keras import backend as K\n",
        "\n",
        "from keras.models import Model, Sequential\n",
        "from keras.layers import Input, Dense, Flatten, Conv2D, MaxPooling2D, BatchNormalization, ReLU, Activation\n",
        "from keras.applications.mobilenet_v2 import MobileNetV2\n",
        "from keras.applications.inception_v3 import InceptionV3\n",
        "from keras.initializers import he_uniform\n",
        "\n",
        "\n",
        "!pip uninstall gdown -y && pip install gdown\n",
        "!gdown -V\n",
        "print(tf.__version__)"
      ]
    },
    {
      "cell_type": "markdown",
      "source": [
        "Dataset will be downloaded using gdwon a python pakacge used to download large files from google drive,its link can be found [here](https://github.com/wkentaro/gdown)."
      ],
      "metadata": {
        "id": "NpzAlxAvXeCg"
      }
    },
    {
      "cell_type": "code",
      "source": [
        "#downloading the dataset\n",
        "import gdown\n",
        "!python3 -m gdown.cli \"https://drive.google.com/u/0/uc?id=1KDQBTbo5deKGCdVV_xIujscn5ImxW4dm&confirm=t\""
      ],
      "metadata": {
        "colab": {
          "base_uri": "https://localhost:8080/"
        },
        "id": "3-jPCdf7RvC0",
        "outputId": "d088d590-fdd1-4c38-b341-3f4ce5fae7ad"
      },
      "execution_count": null,
      "outputs": [
        {
          "output_type": "stream",
          "name": "stdout",
          "text": [
            "Downloading...\n",
            "From: https://drive.google.com/u/0/uc?id=1KDQBTbo5deKGCdVV_xIujscn5ImxW4dm&confirm=t\n",
            "To: /content/images.zip\n",
            "100% 940M/940M [00:09<00:00, 98.6MB/s]\n"
          ]
        }
      ]
    },
    {
      "cell_type": "markdown",
      "source": [
        "Dataset is now downloaded as zip file next step will be to use shutil to unzip it."
      ],
      "metadata": {
        "id": "l2sAi_CGX9gm"
      }
    },
    {
      "cell_type": "code",
      "source": [
        "#Unzip dataset\n",
        "dataset = '/content/images.zip'\n",
        "shutil.unpack_archive(dataset)"
      ],
      "metadata": {
        "id": "NcmTjqiz8OcF"
      },
      "execution_count": null,
      "outputs": []
    },
    {
      "cell_type": "markdown",
      "source": [
        "This function in next cell provides F1 Score to determine the overall performance of models used for training and testing the dataset. This  code is written following the article found [here](https://neptune.ai/blog/implementing-the-macro-f1-score-in-keras)."
      ],
      "metadata": {
        "id": "3oXscZlbYPti"
      }
    },
    {
      "cell_type": "code",
      "source": [
        "#custom f1_score\n",
        "def f1_score(y_true, y_pred):\n",
        "    def recall_m(y_true, y_pred):\n",
        "        TP = K.sum(K.round(K.clip(y_true * y_pred, 0, 1)))\n",
        "        Positives = K.sum(K.round(K.clip(y_true, 0, 1)))\n",
        "\n",
        "        recall = TP / (Positives+K.epsilon())\n",
        "        return recall\n",
        "\n",
        "    def precision_m(y_true, y_pred):\n",
        "        TP = K.sum(K.round(K.clip(y_true * y_pred, 0, 1)))\n",
        "        Pred_Positives = K.sum(K.round(K.clip(y_pred, 0, 1)))\n",
        "\n",
        "        precision = TP / (Pred_Positives+K.epsilon())\n",
        "        return precision\n",
        "\n",
        "    precision, recall = precision_m(y_true, y_pred), recall_m(y_true, y_pred)\n",
        "\n",
        "    return 2*((precision*recall)/(precision+recall+K.epsilon()))"
      ],
      "metadata": {
        "id": "cOZMk-03e_cj"
      },
      "execution_count": null,
      "outputs": []
    },
    {
      "cell_type": "markdown",
      "source": [
        "Dataset is loaded, batch size is provided as 32. original images dimensions are \n",
        "1920x1080, however to decrease training time, dimensions have been reduced to 640x360. Train, validation, and test split are done with validation having 20% of training data."
      ],
      "metadata": {
        "id": "RwauvyWmbmzh"
      }
    },
    {
      "cell_type": "code",
      "source": [
        "batch_size = 32\n",
        "img_height = 320\n",
        "img_width = 180\n",
        "\n",
        "train_images = tf.keras.utils.image_dataset_from_directory(\n",
        "  '/content/images/training',\n",
        "  validation_split=0.2,\n",
        "  subset=\"training\",\n",
        "  seed=123,\n",
        "  image_size=(img_height, img_width),\n",
        "  batch_size=batch_size)\n",
        "\n",
        "val_images =  tf.keras.utils.image_dataset_from_directory(\n",
        "  '/content/images/training',\n",
        "  validation_split=0.2,\n",
        "  subset=\"validation\",\n",
        "  seed=123,\n",
        "  image_size=(img_height, img_width),\n",
        "  batch_size=batch_size)\n",
        "\n",
        "test_images = tf.keras.utils.image_dataset_from_directory(\n",
        "    '/content/images/testing',\n",
        "    seed=123,\n",
        "    image_size=(img_height, img_width),\n",
        "    batch_size=batch_size)"
      ],
      "metadata": {
        "colab": {
          "base_uri": "https://localhost:8080/"
        },
        "id": "GgRLIVWETRwF",
        "outputId": "2d0dd182-8b95-4e83-adaf-1cef94998207"
      },
      "execution_count": null,
      "outputs": [
        {
          "output_type": "stream",
          "name": "stdout",
          "text": [
            "Found 2392 files belonging to 2 classes.\n",
            "Using 1914 files for training.\n",
            "Found 2392 files belonging to 2 classes.\n",
            "Using 478 files for validation.\n",
            "Found 597 files belonging to 2 classes.\n"
          ]
        }
      ]
    },
    {
      "cell_type": "code",
      "source": [
        "# check class names\n",
        "class_names = train_images.class_names\n",
        "print(class_names)"
      ],
      "metadata": {
        "colab": {
          "base_uri": "https://localhost:8080/"
        },
        "id": "_Yg2yEYzVWik",
        "outputId": "84de97a2-5c5b-40e3-b933-d63ee639f2c8"
      },
      "execution_count": null,
      "outputs": [
        {
          "output_type": "stream",
          "name": "stdout",
          "text": [
            "['flip', 'notflip']\n"
          ]
        }
      ]
    },
    {
      "cell_type": "markdown",
      "source": [
        "## Training\n",
        "Three diffrent models will be used to train and test the dataset. Depending on the performance one model will be selected for production. The custom model will be used as baseline for comparison.\n",
        "\n",
        "1.   MobileNetV2\n",
        "2.   InceptionV3\n",
        "3.   Custom CNN\n",
        "\n",
        "For optimization all models will use \"Adam\" optimizer will be used, with the learning rate of 0.001."
      ],
      "metadata": {
        "id": "gpitAUs8ZwTb"
      }
    },
    {
      "cell_type": "markdown",
      "source": [
        "\n",
        "##Training dataset with MobileNetV2"
      ],
      "metadata": {
        "id": "RL1kMDSgea3T"
      }
    },
    {
      "cell_type": "code",
      "source": [
        "mobilenetv2_model = Sequential()\n",
        "img_height = 320\n",
        "img_width = 180\n",
        "base_model = MobileNetV2(include_top=False,\n",
        "    weights = 'imagenet',\n",
        "    input_shape=(img_height, img_width, 3),\n",
        "    pooling='avg')\n",
        "\n",
        "base_model.trainable = False\n",
        "\n",
        "mobilenetv2_model.add(base_model)\n",
        "mobilenetv2_model.add(Flatten())\n",
        "mobilenetv2_model.add(Dense(512, activation='relu'))\n",
        "mobilenetv2_model.add(Dense(1, activation='sigmoid'))"
      ],
      "metadata": {
        "colab": {
          "base_uri": "https://localhost:8080/"
        },
        "id": "dvW5coULeaH4",
        "outputId": "b06173b5-59bc-47a3-bb1e-21f7de7a5df1"
      },
      "execution_count": null,
      "outputs": [
        {
          "output_type": "stream",
          "name": "stderr",
          "text": [
            "WARNING:tensorflow:`input_shape` is undefined or non-square, or `rows` is not in [96, 128, 160, 192, 224]. Weights for input shape (224, 224) will be loaded as the default.\n"
          ]
        },
        {
          "output_type": "stream",
          "name": "stdout",
          "text": [
            "Downloading data from https://storage.googleapis.com/tensorflow/keras-applications/mobilenet_v2/mobilenet_v2_weights_tf_dim_ordering_tf_kernels_1.0_224_no_top.h5\n",
            "9406464/9406464 [==============================] - 0s 0us/step\n"
          ]
        }
      ]
    },
    {
      "cell_type": "code",
      "source": [
        "mobilenetv2_model.summary()"
      ],
      "metadata": {
        "colab": {
          "base_uri": "https://localhost:8080/"
        },
        "id": "qfIKb9d1i056",
        "outputId": "e1abe218-8c8d-4ab6-f702-7c20f09ec68d"
      },
      "execution_count": null,
      "outputs": [
        {
          "output_type": "stream",
          "name": "stdout",
          "text": [
            "Model: \"sequential\"\n",
            "_________________________________________________________________\n",
            " Layer (type)                Output Shape              Param #   \n",
            "=================================================================\n",
            " mobilenetv2_1.00_224 (Funct  (None, 1280)             2257984   \n",
            " ional)                                                          \n",
            "                                                                 \n",
            " flatten (Flatten)           (None, 1280)              0         \n",
            "                                                                 \n",
            " dense (Dense)               (None, 512)               655872    \n",
            "                                                                 \n",
            " dense_1 (Dense)             (None, 1)                 513       \n",
            "                                                                 \n",
            "=================================================================\n",
            "Total params: 2,914,369\n",
            "Trainable params: 656,385\n",
            "Non-trainable params: 2,257,984\n",
            "_________________________________________________________________\n"
          ]
        }
      ]
    },
    {
      "cell_type": "code",
      "source": [
        "opt = tf.keras.optimizers.Adam(learning_rate=0.001)\n",
        "mobilenetv2_model.compile(loss='binary_crossentropy', optimizer=opt, metrics=['accuracy',f1_score])"
      ],
      "metadata": {
        "id": "dIMnHuyCjLfd"
      },
      "execution_count": null,
      "outputs": []
    },
    {
      "cell_type": "code",
      "source": [
        "hist = mobilenetv2_model.fit(train_images,validation_data=val_images,epochs=20)"
      ],
      "metadata": {
        "colab": {
          "base_uri": "https://localhost:8080/"
        },
        "id": "7TFXoEiRjgzr",
        "outputId": "c44ac844-4b12-42b4-8178-087cb1be418a"
      },
      "execution_count": null,
      "outputs": [
        {
          "output_type": "stream",
          "name": "stdout",
          "text": [
            "Epoch 1/20\n",
            "60/60 [==============================] - 119s 2s/step - loss: 0.6231 - accuracy: 0.6891 - f1_score: 0.6527 - val_loss: 0.4172 - val_accuracy: 0.8556 - val_f1_score: 0.8426\n",
            "Epoch 2/20\n",
            "60/60 [==============================] - 108s 2s/step - loss: 0.3599 - accuracy: 0.8584 - f1_score: 0.8614 - val_loss: 0.2900 - val_accuracy: 0.9038 - val_f1_score: 0.9058\n",
            "Epoch 3/20\n",
            "60/60 [==============================] - 112s 2s/step - loss: 0.2636 - accuracy: 0.9086 - f1_score: 0.9115 - val_loss: 0.2143 - val_accuracy: 0.9331 - val_f1_score: 0.9326\n",
            "Epoch 4/20\n",
            "60/60 [==============================] - 107s 2s/step - loss: 0.1844 - accuracy: 0.9493 - f1_score: 0.9522 - val_loss: 0.1771 - val_accuracy: 0.9477 - val_f1_score: 0.9467\n",
            "Epoch 5/20\n",
            "60/60 [==============================] - 107s 2s/step - loss: 0.1541 - accuracy: 0.9582 - f1_score: 0.9569 - val_loss: 0.1487 - val_accuracy: 0.9603 - val_f1_score: 0.9611\n",
            "Epoch 6/20\n",
            "60/60 [==============================] - 106s 2s/step - loss: 0.1184 - accuracy: 0.9707 - f1_score: 0.9709 - val_loss: 0.1557 - val_accuracy: 0.9435 - val_f1_score: 0.9410\n",
            "Epoch 7/20\n",
            "60/60 [==============================] - 108s 2s/step - loss: 0.1023 - accuracy: 0.9713 - f1_score: 0.9708 - val_loss: 0.1029 - val_accuracy: 0.9749 - val_f1_score: 0.9752\n",
            "Epoch 8/20\n",
            "60/60 [==============================] - 109s 2s/step - loss: 0.0791 - accuracy: 0.9838 - f1_score: 0.9838 - val_loss: 0.0934 - val_accuracy: 0.9707 - val_f1_score: 0.9735\n",
            "Epoch 9/20\n",
            "60/60 [==============================] - 113s 2s/step - loss: 0.0692 - accuracy: 0.9822 - f1_score: 0.9815 - val_loss: 0.1372 - val_accuracy: 0.9393 - val_f1_score: 0.9381\n",
            "Epoch 10/20\n",
            "60/60 [==============================] - 107s 2s/step - loss: 0.0714 - accuracy: 0.9765 - f1_score: 0.9748 - val_loss: 0.0801 - val_accuracy: 0.9728 - val_f1_score: 0.9722\n",
            "Epoch 11/20\n",
            "60/60 [==============================] - 107s 2s/step - loss: 0.0737 - accuracy: 0.9744 - f1_score: 0.9729 - val_loss: 0.1287 - val_accuracy: 0.9456 - val_f1_score: 0.9496\n",
            "Epoch 12/20\n",
            "60/60 [==============================] - 109s 2s/step - loss: 0.0408 - accuracy: 0.9890 - f1_score: 0.9898 - val_loss: 0.0577 - val_accuracy: 0.9854 - val_f1_score: 0.9862\n",
            "Epoch 13/20\n",
            "60/60 [==============================] - 109s 2s/step - loss: 0.0351 - accuracy: 0.9916 - f1_score: 0.9917 - val_loss: 0.0665 - val_accuracy: 0.9770 - val_f1_score: 0.9749\n",
            "Epoch 14/20\n",
            "60/60 [==============================] - 107s 2s/step - loss: 0.0250 - accuracy: 0.9963 - f1_score: 0.9963 - val_loss: 0.0742 - val_accuracy: 0.9728 - val_f1_score: 0.9707\n",
            "Epoch 15/20\n",
            "60/60 [==============================] - 110s 2s/step - loss: 0.0322 - accuracy: 0.9937 - f1_score: 0.9939 - val_loss: 0.0600 - val_accuracy: 0.9833 - val_f1_score: 0.9829\n",
            "Epoch 16/20\n",
            "60/60 [==============================] - 109s 2s/step - loss: 0.0188 - accuracy: 0.9974 - f1_score: 0.9975 - val_loss: 0.0462 - val_accuracy: 0.9854 - val_f1_score: 0.9850\n",
            "Epoch 17/20\n",
            "60/60 [==============================] - 112s 2s/step - loss: 0.0155 - accuracy: 0.9995 - f1_score: 0.9996 - val_loss: 0.0403 - val_accuracy: 0.9874 - val_f1_score: 0.9883\n",
            "Epoch 18/20\n",
            "60/60 [==============================] - 111s 2s/step - loss: 0.0162 - accuracy: 0.9990 - f1_score: 0.9990 - val_loss: 0.0607 - val_accuracy: 0.9833 - val_f1_score: 0.9799\n",
            "Epoch 19/20\n",
            "60/60 [==============================] - 108s 2s/step - loss: 0.0181 - accuracy: 0.9969 - f1_score: 0.9969 - val_loss: 0.0342 - val_accuracy: 0.9895 - val_f1_score: 0.9893\n",
            "Epoch 20/20\n",
            "60/60 [==============================] - 107s 2s/step - loss: 0.0100 - accuracy: 0.9995 - f1_score: 0.9994 - val_loss: 0.0305 - val_accuracy: 0.9916 - val_f1_score: 0.9909\n"
          ]
        }
      ]
    },
    {
      "cell_type": "code",
      "source": [
        "mobilenetv2_model.evaluate(test_images)"
      ],
      "metadata": {
        "colab": {
          "base_uri": "https://localhost:8080/"
        },
        "id": "2QEwGQwKjzQa",
        "outputId": "84512823-2fef-49ed-9d87-a9c091e32e64"
      },
      "execution_count": null,
      "outputs": [
        {
          "output_type": "stream",
          "name": "stdout",
          "text": [
            "19/19 [==============================] - 27s 1s/step - loss: 0.0560 - accuracy: 0.9782 - f1_score: 0.9762\n"
          ]
        },
        {
          "output_type": "execute_result",
          "data": {
            "text/plain": [
              "[0.055991340428590775, 0.9782244563102722, 0.9762470722198486]"
            ]
          },
          "metadata": {},
          "execution_count": 13
        }
      ]
    },
    {
      "cell_type": "code",
      "source": [
        "print(hist.history.keys())\n",
        "# summarize history for accuracy\n",
        "plt.plot(hist.history['accuracy'])\n",
        "plt.plot(hist.history['val_accuracy'])\n",
        "plt.title('model accuracy')\n",
        "plt.ylabel('accuracy')\n",
        "plt.xlabel('epoch')\n",
        "plt.legend(['train', 'test'], loc='upper left')\n",
        "plt.show()\n",
        "# summarize history for loss\n",
        "plt.plot(hist.history['loss'])\n",
        "plt.plot(hist.history['val_loss'])\n",
        "plt.title('model loss')\n",
        "plt.ylabel('loss')\n",
        "plt.xlabel('epoch')\n",
        "plt.legend(['train', 'test'], loc='upper left')\n",
        "plt.show()"
      ],
      "metadata": {
        "colab": {
          "base_uri": "https://localhost:8080/",
          "height": 590
        },
        "id": "4kZ9kLhDuYmh",
        "outputId": "796c8cf6-63f0-4db3-80bb-a993132f4faf"
      },
      "execution_count": null,
      "outputs": [
        {
          "output_type": "stream",
          "name": "stdout",
          "text": [
            "dict_keys(['loss', 'accuracy', 'f1_score', 'val_loss', 'val_accuracy', 'val_f1_score'])\n"
          ]
        },
        {
          "output_type": "display_data",
          "data": {
            "text/plain": [
              "<Figure size 432x288 with 1 Axes>"
            ],
            "image/png": "[encoded data removed]"
          },
          "metadata": {
            "needs_background": "light"
          }
        },
        {
          "output_type": "display_data",
          "data": {
            "text/plain": [
              "<Figure size 432x288 with 1 Axes>"
            ],
            "image/png": "[encoded data removed]"
          },
          "metadata": {
            "needs_background": "light"
          }
        }
      ]
    },
    {
      "cell_type": "markdown",
      "source": [
        "MobileNetV2 performs well with test set accuray, and F1 Score of 97.82% and 97.62%."
      ],
      "metadata": {
        "id": "wme45fqWb0hR"
      }
    },
    {
      "cell_type": "markdown",
      "source": [
        "##training dataset with InceptionV3"
      ],
      "metadata": {
        "id": "oWxJCrHBPAxy"
      }
    },
    {
      "cell_type": "code",
      "source": [
        "inceptionv3_model = Sequential()\n",
        "img_height = 320\n",
        "img_width = 180\n",
        "base_model = InceptionV3(include_top=False,\n",
        "    input_shape=(img_height, img_width, 3),\n",
        "    weights = 'imagenet',\n",
        "    pooling='avg')\n",
        "\n",
        "base_model.trainable = False\n",
        "\n",
        "inceptionv3_model.add(base_model)\n",
        "inceptionv3_model.add(Flatten())\n",
        "inceptionv3_model.add(Dense(512, activation='relu'))\n",
        "inceptionv3_model.add(Dense(1, activation='sigmoid'))"
      ],
      "metadata": {
        "id": "0BYeZbGBPWEr",
        "colab": {
          "base_uri": "https://localhost:8080/"
        },
        "outputId": "edbc6c24-5dfd-460f-b30b-767179b3f86c"
      },
      "execution_count": null,
      "outputs": [
        {
          "output_type": "stream",
          "name": "stdout",
          "text": [
            "Downloading data from https://storage.googleapis.com/tensorflow/keras-applications/inception_v3/inception_v3_weights_tf_dim_ordering_tf_kernels_notop.h5\n",
            "87910968/87910968 [==============================] - 1s 0us/step\n"
          ]
        }
      ]
    },
    {
      "cell_type": "code",
      "source": [
        "inceptionv3_model.summary()"
      ],
      "metadata": {
        "colab": {
          "base_uri": "https://localhost:8080/"
        },
        "id": "TDFnT6WbQyyf",
        "outputId": "854c1bf1-9dcc-4d2a-fcc2-afc50f883c71"
      },
      "execution_count": null,
      "outputs": [
        {
          "output_type": "stream",
          "name": "stdout",
          "text": [
            "Model: \"sequential\"\n",
            "_________________________________________________________________\n",
            " Layer (type)                Output Shape              Param #   \n",
            "=================================================================\n",
            " inception_v3 (Functional)   (None, 2048)              21802784  \n",
            "                                                                 \n",
            " flatten (Flatten)           (None, 2048)              0         \n",
            "                                                                 \n",
            " dense (Dense)               (None, 512)               1049088   \n",
            "                                                                 \n",
            " dense_1 (Dense)             (None, 1)                 513       \n",
            "                                                                 \n",
            "=================================================================\n",
            "Total params: 22,852,385\n",
            "Trainable params: 1,049,601\n",
            "Non-trainable params: 21,802,784\n",
            "_________________________________________________________________\n"
          ]
        }
      ]
    },
    {
      "cell_type": "code",
      "source": [
        "opt = tf.keras.optimizers.Adam(learning_rate=0.001)\n",
        "inceptionv3_model.compile(loss='binary_crossentropy', optimizer=opt, metrics=['accuracy',f1_score])"
      ],
      "metadata": {
        "id": "bDEnQxvpQ11c"
      },
      "execution_count": null,
      "outputs": []
    },
    {
      "cell_type": "code",
      "source": [
        "hist_inception = inceptionv3_model.fit(train_images,validation_data=val_images,epochs=30)"
      ],
      "metadata": {
        "colab": {
          "base_uri": "https://localhost:8080/"
        },
        "id": "Uoj1Upd1Q4SJ",
        "outputId": "28084742-b0e2-4db0-de82-117fceecc606"
      },
      "execution_count": null,
      "outputs": [
        {
          "output_type": "stream",
          "name": "stdout",
          "text": [
            "Epoch 1/30\n",
            "60/60 [==============================] - 327s 5s/step - loss: 10.9881 - accuracy: 0.6296 - f1_score: 0.5697 - val_loss: 1.4790 - val_accuracy: 0.6778 - val_f1_score: 0.5966\n",
            "Epoch 2/30\n",
            "60/60 [==============================] - 318s 5s/step - loss: 0.7462 - accuracy: 0.7853 - f1_score: 0.7697 - val_loss: 0.3987 - val_accuracy: 0.8536 - val_f1_score: 0.8526\n",
            "Epoch 3/30\n",
            "60/60 [==============================] - 316s 5s/step - loss: 0.4934 - accuracy: 0.8229 - f1_score: 0.8107 - val_loss: 1.9090 - val_accuracy: 0.6025 - val_f1_score: 0.7163\n",
            "Epoch 4/30\n",
            "60/60 [==============================] - 329s 5s/step - loss: 0.6325 - accuracy: 0.8030 - f1_score: 0.7939 - val_loss: 0.3588 - val_accuracy: 0.8745 - val_f1_score: 0.8639\n",
            "Epoch 5/30\n",
            "60/60 [==============================] - 312s 5s/step - loss: 1.6825 - accuracy: 0.7524 - f1_score: 0.6950 - val_loss: 0.7670 - val_accuracy: 0.7720 - val_f1_score: 0.7250\n",
            "Epoch 6/30\n",
            "60/60 [==============================] - 316s 5s/step - loss: 0.3447 - accuracy: 0.8960 - f1_score: 0.8942 - val_loss: 0.3927 - val_accuracy: 0.8703 - val_f1_score: 0.8796\n",
            "Epoch 7/30\n",
            "60/60 [==============================] - 318s 5s/step - loss: 0.4277 - accuracy: 0.8605 - f1_score: 0.8520 - val_loss: 0.5298 - val_accuracy: 0.8452 - val_f1_score: 0.8199\n",
            "Epoch 8/30\n",
            "60/60 [==============================] - 315s 5s/step - loss: 0.6116 - accuracy: 0.8344 - f1_score: 0.8271 - val_loss: 0.6847 - val_accuracy: 0.8201 - val_f1_score: 0.8447\n",
            "Epoch 9/30\n",
            "60/60 [==============================] - 311s 5s/step - loss: 0.4009 - accuracy: 0.8704 - f1_score: 0.8614 - val_loss: 0.4754 - val_accuracy: 0.8389 - val_f1_score: 0.8172\n",
            "Epoch 10/30\n",
            "60/60 [==============================] - 316s 5s/step - loss: 0.2908 - accuracy: 0.8986 - f1_score: 0.8962 - val_loss: 0.2853 - val_accuracy: 0.8870 - val_f1_score: 0.8729\n",
            "Epoch 11/30\n",
            "60/60 [==============================] - 316s 5s/step - loss: 0.1613 - accuracy: 0.9441 - f1_score: 0.9434 - val_loss: 0.1568 - val_accuracy: 0.9310 - val_f1_score: 0.9323\n",
            "Epoch 12/30\n",
            "60/60 [==============================] - 334s 6s/step - loss: 0.6114 - accuracy: 0.8422 - f1_score: 0.8242 - val_loss: 0.5092 - val_accuracy: 0.8661 - val_f1_score: 0.8822\n",
            "Epoch 13/30\n",
            "60/60 [==============================] - 339s 6s/step - loss: 0.3783 - accuracy: 0.8851 - f1_score: 0.8832 - val_loss: 0.5884 - val_accuracy: 0.8598 - val_f1_score: 0.8703\n",
            "Epoch 14/30\n",
            "60/60 [==============================] - 332s 6s/step - loss: 0.3861 - accuracy: 0.8882 - f1_score: 0.8875 - val_loss: 0.2072 - val_accuracy: 0.9100 - val_f1_score: 0.9065\n",
            "Epoch 15/30\n",
            "60/60 [==============================] - 326s 5s/step - loss: 0.1301 - accuracy: 0.9535 - f1_score: 0.9537 - val_loss: 0.1375 - val_accuracy: 0.9393 - val_f1_score: 0.9387\n",
            "Epoch 16/30\n",
            "60/60 [==============================] - 326s 5s/step - loss: 0.4077 - accuracy: 0.8751 - f1_score: 0.8710 - val_loss: 0.3792 - val_accuracy: 0.8577 - val_f1_score: 0.8384\n",
            "Epoch 17/30\n",
            "60/60 [==============================] - 321s 5s/step - loss: 0.1868 - accuracy: 0.9279 - f1_score: 0.9246 - val_loss: 0.2609 - val_accuracy: 0.8933 - val_f1_score: 0.8816\n",
            "Epoch 18/30\n",
            "60/60 [==============================] - 324s 5s/step - loss: 0.1304 - accuracy: 0.9525 - f1_score: 0.9524 - val_loss: 0.1199 - val_accuracy: 0.9456 - val_f1_score: 0.9446\n",
            "Epoch 19/30\n",
            "60/60 [==============================] - 319s 5s/step - loss: 0.0898 - accuracy: 0.9645 - f1_score: 0.9643 - val_loss: 0.1161 - val_accuracy: 0.9540 - val_f1_score: 0.9543\n",
            "Epoch 20/30\n",
            "60/60 [==============================] - 315s 5s/step - loss: 0.1068 - accuracy: 0.9619 - f1_score: 0.9624 - val_loss: 0.0999 - val_accuracy: 0.9644 - val_f1_score: 0.9659\n",
            "Epoch 21/30\n",
            "60/60 [==============================] - 312s 5s/step - loss: 0.1834 - accuracy: 0.9316 - f1_score: 0.9294 - val_loss: 0.4194 - val_accuracy: 0.8347 - val_f1_score: 0.8045\n",
            "Epoch 22/30\n",
            "60/60 [==============================] - 314s 5s/step - loss: 0.1278 - accuracy: 0.9498 - f1_score: 0.9501 - val_loss: 0.2003 - val_accuracy: 0.9226 - val_f1_score: 0.9244\n",
            "Epoch 23/30\n",
            "60/60 [==============================] - 313s 5s/step - loss: 0.2773 - accuracy: 0.9075 - f1_score: 0.8971 - val_loss: 1.0791 - val_accuracy: 0.7490 - val_f1_score: 0.7978\n",
            "Epoch 24/30\n",
            "60/60 [==============================] - 312s 5s/step - loss: 0.1248 - accuracy: 0.9587 - f1_score: 0.9613 - val_loss: 0.1286 - val_accuracy: 0.9456 - val_f1_score: 0.9431\n",
            "Epoch 25/30\n",
            "60/60 [==============================] - 314s 5s/step - loss: 0.4779 - accuracy: 0.8840 - f1_score: 0.8742 - val_loss: 0.1448 - val_accuracy: 0.9310 - val_f1_score: 0.9313\n",
            "Epoch 26/30\n",
            "60/60 [==============================] - 312s 5s/step - loss: 0.1231 - accuracy: 0.9525 - f1_score: 0.9533 - val_loss: 0.2041 - val_accuracy: 0.9163 - val_f1_score: 0.9098\n",
            "Epoch 27/30\n",
            "60/60 [==============================] - 311s 5s/step - loss: 0.1976 - accuracy: 0.9383 - f1_score: 0.9345 - val_loss: 1.0282 - val_accuracy: 0.7385 - val_f1_score: 0.7925\n",
            "Epoch 28/30\n",
            "60/60 [==============================] - 315s 5s/step - loss: 0.2186 - accuracy: 0.9331 - f1_score: 0.9314 - val_loss: 0.3472 - val_accuracy: 0.8682 - val_f1_score: 0.8808\n",
            "Epoch 29/30\n",
            "60/60 [==============================] - 313s 5s/step - loss: 0.1829 - accuracy: 0.9279 - f1_score: 0.9278 - val_loss: 0.1737 - val_accuracy: 0.9163 - val_f1_score: 0.9227\n",
            "Epoch 30/30\n",
            "60/60 [==============================] - 310s 5s/step - loss: 0.1325 - accuracy: 0.9493 - f1_score: 0.9470 - val_loss: 0.2009 - val_accuracy: 0.9100 - val_f1_score: 0.9029\n"
          ]
        }
      ]
    },
    {
      "cell_type": "code",
      "source": [
        "inceptionv3_model.evaluate(test_images)"
      ],
      "metadata": {
        "id": "-Cgec8f9RAsk",
        "colab": {
          "base_uri": "https://localhost:8080/"
        },
        "outputId": "8769b2f5-55a2-438c-dfad-4fdf35ee6279"
      },
      "execution_count": null,
      "outputs": [
        {
          "output_type": "stream",
          "name": "stdout",
          "text": [
            "19/19 [==============================] - 80s 4s/step - loss: 0.1647 - accuracy: 0.9363 - f1_score: 0.9299\n"
          ]
        },
        {
          "output_type": "execute_result",
          "data": {
            "text/plain": [
              "[0.16466139256954193, 0.9363484382629395, 0.9298736453056335]"
            ]
          },
          "metadata": {},
          "execution_count": 11
        }
      ]
    },
    {
      "cell_type": "code",
      "source": [
        "print(hist_inception.history.keys())\n",
        "# summarize history for accuracy\n",
        "plt.plot(hist_inception.history['accuracy'])\n",
        "plt.plot(hist_inception.history['val_accuracy'])\n",
        "plt.title('model accuracy')\n",
        "plt.ylabel('accuracy')\n",
        "plt.xlabel('epoch')\n",
        "plt.legend(['train', 'test'], loc='upper left')\n",
        "plt.show()\n",
        "# summarize history for loss\n",
        "plt.plot(hist_inception.history['loss'])\n",
        "plt.plot(hist_inception.history['val_loss'])\n",
        "plt.title('model loss')\n",
        "plt.ylabel('loss')\n",
        "plt.xlabel('epoch')\n",
        "plt.legend(['train', 'test'], loc='upper left')\n",
        "plt.show()"
      ],
      "metadata": {
        "id": "q5FCbc1Ou3dp",
        "colab": {
          "base_uri": "https://localhost:8080/",
          "height": 590
        },
        "outputId": "42e6207c-82ce-4e79-9b83-f66bec9eec51"
      },
      "execution_count": null,
      "outputs": [
        {
          "output_type": "stream",
          "name": "stdout",
          "text": [
            "dict_keys(['loss', 'accuracy', 'f1_score', 'val_loss', 'val_accuracy', 'val_f1_score'])\n"
          ]
        },
        {
          "output_type": "display_data",
          "data": {
            "text/plain": [
              "<Figure size 432x288 with 1 Axes>"
            ],
            "image/png": "[encoded data removed]"
          },
          "metadata": {
            "needs_background": "light"
          }
        },
        {
          "output_type": "display_data",
          "data": {
            "text/plain": [
              "<Figure size 432x288 with 1 Axes>"
            ],
            "image/png": "[encoded data removed]"
          },
          "metadata": {
            "needs_background": "light"
          }
        }
      ]
    },
    {
      "cell_type": "markdown",
      "source": [
        "InceptionV3's performance is slighltly less compare to MobileNetV2 model with the accuracy and F1 Score of 93.63% and 92.99% respectively. "
      ],
      "metadata": {
        "id": "ybrPSuTroN5m"
      }
    },
    {
      "cell_type": "markdown",
      "source": [
        "## Custom CNN"
      ],
      "metadata": {
        "id": "xHHd-PBlxmjC"
      }
    },
    {
      "cell_type": "markdown",
      "source": [
        "Custom CNN has four total layers after the input layer with 1st three being convolution layers and 4th being the fully connected layer."
      ],
      "metadata": {
        "id": "7nXKuy1jqRxc"
      }
    },
    {
      "cell_type": "code",
      "source": [
        "def custom_cnn(input_size = (320, 180, 3)):\n",
        "  inputs = Input(input_size)\n",
        "  # 1st  layer\n",
        "  image_feat = Conv2D(16, (7, 7), strides = (2, 2), kernel_initializer = he_uniform())(inputs)\n",
        "  image_feat = BatchNormalization(axis = 3)(image_feat)\n",
        "  image_feat = Activation('relu')(image_feat)\n",
        "  image_feat = MaxPooling2D((3, 3), strides=(2, 2))(image_feat)\n",
        "  # 2nd layer\n",
        "  image_feat = Conv2D(64, (5, 5), strides = (2, 2), kernel_initializer = he_uniform())(image_feat)\n",
        "  image_feat = BatchNormalization(axis = 3)(image_feat)\n",
        "  image_feat = Activation('relu')(image_feat)\n",
        "  image_feat = MaxPooling2D((2, 2), strides=(2, 2))(image_feat)\n",
        "  # 3rd layer\n",
        "  image_feat = Conv2D(256, (3, 3), strides = (1, 1), kernel_initializer = he_uniform())(image_feat)\n",
        "  image_feat = BatchNormalization(axis = 3)(image_feat)\n",
        "  image_feat = Activation('relu')(image_feat)\n",
        "  image_feat = MaxPooling2D((2, 2), strides=(2, 2))(image_feat)\n",
        "  # 4th layer,final layer (fully connected layer)\n",
        "  image_feat = Flatten()(image_feat)\n",
        "  image_feat = Dense(256, activation='relu', kernel_initializer = he_uniform())(image_feat)\n",
        "  image_feat = Dense(32, activation='relu', kernel_initializer = he_uniform())(image_feat)\n",
        "  outputs = Dense(1, activation='sigmoid', kernel_initializer = he_uniform())(image_feat)\n",
        "  \n",
        "  model = Model(inputs = inputs, outputs = outputs)\n",
        "  \n",
        "  return model"
      ],
      "metadata": {
        "id": "wiIIEb-ixlus"
      },
      "execution_count": null,
      "outputs": []
    },
    {
      "cell_type": "code",
      "source": [
        "# Initialize the model\n",
        "custom_model = custom_cnn((320, 180, 3))\n",
        "opt = tf.keras.optimizers.Adam(learning_rate=0.001)\n",
        "custom_model.compile(loss='binary_crossentropy', optimizer=opt, metrics=['accuracy',f1_score])\n",
        "# Print model summary\n",
        "print(custom_model.summary())"
      ],
      "metadata": {
        "id": "Cp1Y_5pJQ83F",
        "colab": {
          "base_uri": "https://localhost:8080/"
        },
        "outputId": "a93c39fa-73d2-4da1-f866-451ee0e9ac80"
      },
      "execution_count": null,
      "outputs": [
        {
          "output_type": "stream",
          "name": "stdout",
          "text": [
            "Model: \"model\"\n",
            "_________________________________________________________________\n",
            " Layer (type)                Output Shape              Param #   \n",
            "=================================================================\n",
            " input_1 (InputLayer)        [(None, 320, 180, 3)]     0         \n",
            "                                                                 \n",
            " conv2d (Conv2D)             (None, 157, 87, 16)       2368      \n",
            "                                                                 \n",
            " batch_normalization (BatchN  (None, 157, 87, 16)      64        \n",
            " ormalization)                                                   \n",
            "                                                                 \n",
            " activation (Activation)     (None, 157, 87, 16)       0         \n",
            "                                                                 \n",
            " max_pooling2d (MaxPooling2D  (None, 78, 43, 16)       0         \n",
            " )                                                               \n",
            "                                                                 \n",
            " conv2d_1 (Conv2D)           (None, 37, 20, 64)        25664     \n",
            "                                                                 \n",
            " batch_normalization_1 (Batc  (None, 37, 20, 64)       256       \n",
            " hNormalization)                                                 \n",
            "                                                                 \n",
            " activation_1 (Activation)   (None, 37, 20, 64)        0         \n",
            "                                                                 \n",
            " max_pooling2d_1 (MaxPooling  (None, 18, 10, 64)       0         \n",
            " 2D)                                                             \n",
            "                                                                 \n",
            " conv2d_2 (Conv2D)           (None, 16, 8, 256)        147712    \n",
            "                                                                 \n",
            " batch_normalization_2 (Batc  (None, 16, 8, 256)       1024      \n",
            " hNormalization)                                                 \n",
            "                                                                 \n",
            " activation_2 (Activation)   (None, 16, 8, 256)        0         \n",
            "                                                                 \n",
            " max_pooling2d_2 (MaxPooling  (None, 8, 4, 256)        0         \n",
            " 2D)                                                             \n",
            "                                                                 \n",
            " flatten (Flatten)           (None, 8192)              0         \n",
            "                                                                 \n",
            " dense (Dense)               (None, 256)               2097408   \n",
            "                                                                 \n",
            " dense_1 (Dense)             (None, 32)                8224      \n",
            "                                                                 \n",
            " dense_2 (Dense)             (None, 1)                 33        \n",
            "                                                                 \n",
            "=================================================================\n",
            "Total params: 2,282,753\n",
            "Trainable params: 2,282,081\n",
            "Non-trainable params: 672\n",
            "_________________________________________________________________\n",
            "None\n"
          ]
        }
      ]
    },
    {
      "cell_type": "code",
      "source": [
        "hist_custom = custom_model.fit(train_images,validation_data=val_images,epochs=10)"
      ],
      "metadata": {
        "id": "WgWdKf6uR8Kp",
        "colab": {
          "base_uri": "https://localhost:8080/"
        },
        "outputId": "9cac69d8-d633-4b21-d19f-37375447a23e"
      },
      "execution_count": null,
      "outputs": [
        {
          "output_type": "stream",
          "name": "stdout",
          "text": [
            "Epoch 1/10\n",
            "60/60 [==============================] - 80s 1s/step - loss: 0.5688 - accuracy: 0.8135 - f1_score: 0.7883 - val_loss: 5.0501 - val_accuracy: 0.5105 - val_f1_score: 0.6713\n",
            "Epoch 2/10\n",
            "60/60 [==============================] - 72s 1s/step - loss: 0.1117 - accuracy: 0.9556 - f1_score: 0.9559 - val_loss: 4.2275 - val_accuracy: 0.5146 - val_f1_score: 0.6741\n",
            "Epoch 3/10\n",
            "60/60 [==============================] - 72s 1s/step - loss: 0.0559 - accuracy: 0.9838 - f1_score: 0.9829 - val_loss: 3.3473 - val_accuracy: 0.5418 - val_f1_score: 0.6865\n",
            "Epoch 4/10\n",
            "60/60 [==============================] - 72s 1s/step - loss: 0.0580 - accuracy: 0.9791 - f1_score: 0.9797 - val_loss: 2.4667 - val_accuracy: 0.6130 - val_f1_score: 0.7188\n",
            "Epoch 5/10\n",
            "60/60 [==============================] - 73s 1s/step - loss: 0.0312 - accuracy: 0.9880 - f1_score: 0.9879 - val_loss: 0.3241 - val_accuracy: 0.8933 - val_f1_score: 0.9045\n",
            "Epoch 6/10\n",
            "60/60 [==============================] - 74s 1s/step - loss: 0.0036 - accuracy: 1.0000 - f1_score: 1.0000 - val_loss: 0.0227 - val_accuracy: 0.9916 - val_f1_score: 0.9910\n",
            "Epoch 7/10\n",
            "60/60 [==============================] - 71s 1s/step - loss: 0.0019 - accuracy: 1.0000 - f1_score: 1.0000 - val_loss: 0.0127 - val_accuracy: 0.9958 - val_f1_score: 0.9956\n",
            "Epoch 8/10\n",
            "60/60 [==============================] - 72s 1s/step - loss: 9.9236e-04 - accuracy: 1.0000 - f1_score: 1.0000 - val_loss: 0.0055 - val_accuracy: 0.9979 - val_f1_score: 0.9981\n",
            "Epoch 9/10\n",
            "60/60 [==============================] - 72s 1s/step - loss: 5.8582e-04 - accuracy: 1.0000 - f1_score: 1.0000 - val_loss: 0.0057 - val_accuracy: 0.9958 - val_f1_score: 0.9967\n",
            "Epoch 10/10\n",
            "60/60 [==============================] - 72s 1s/step - loss: 4.4550e-04 - accuracy: 1.0000 - f1_score: 1.0000 - val_loss: 0.0033 - val_accuracy: 1.0000 - val_f1_score: 1.0000\n"
          ]
        }
      ]
    },
    {
      "cell_type": "code",
      "source": [
        "custom_model.evaluate(test_images)"
      ],
      "metadata": {
        "id": "dGFXgYKsSIZd",
        "colab": {
          "base_uri": "https://localhost:8080/"
        },
        "outputId": "0b975b09-35b9-4c3b-e2f0-5e1cd5a8a9e7"
      },
      "execution_count": null,
      "outputs": [
        {
          "output_type": "stream",
          "name": "stdout",
          "text": [
            "19/19 [==============================] - 9s 352ms/step - loss: 0.0124 - accuracy: 0.9950 - f1_score: 0.9944\n"
          ]
        },
        {
          "output_type": "execute_result",
          "data": {
            "text/plain": [
              "[0.012374429032206535, 0.9949748516082764, 0.9944398999214172]"
            ]
          },
          "metadata": {},
          "execution_count": 9
        }
      ]
    },
    {
      "cell_type": "code",
      "source": [
        "print(hist_custom.history.keys())\n",
        "# summarize history for accuracy\n",
        "plt.plot(hist_custom.history['accuracy'])\n",
        "plt.plot(hist_custom.history['val_accuracy'])\n",
        "plt.title('model accuracy')\n",
        "plt.ylabel('accuracy')\n",
        "plt.xlabel('epoch')\n",
        "plt.legend(['train', 'test'], loc='upper left')\n",
        "plt.show()\n",
        "# summarize history for loss\n",
        "plt.plot(hist_custom.history['loss'])\n",
        "plt.plot(hist_custom.history['val_loss'])\n",
        "plt.title('model loss')\n",
        "plt.ylabel('loss')\n",
        "plt.xlabel('epoch')\n",
        "plt.legend(['train', 'test'], loc='upper left')\n",
        "plt.show()"
      ],
      "metadata": {
        "id": "ruQmsoBiSOtD",
        "colab": {
          "base_uri": "https://localhost:8080/",
          "height": 590
        },
        "outputId": "1e55c6f5-9ae9-4e64-f33b-56470ec53958"
      },
      "execution_count": null,
      "outputs": [
        {
          "output_type": "stream",
          "name": "stdout",
          "text": [
            "dict_keys(['loss', 'accuracy', 'f1_score', 'val_loss', 'val_accuracy', 'val_f1_score'])\n"
          ]
        },
        {
          "output_type": "display_data",
          "data": {
            "text/plain": [
              "<Figure size 432x288 with 1 Axes>"
            ],
            "image/png": "[encoded data removed]"
          },
          "metadata": {
            "needs_background": "light"
          }
        },
        {
          "output_type": "display_data",
          "data": {
            "text/plain": [
              "<Figure size 432x288 with 1 Axes>"
            ],
            "image/png": "[encoded data removed]"
          },
          "metadata": {
            "needs_background": "light"
          }
        }
      ]
    },
    {
      "cell_type": "markdown",
      "source": [
        "Custom CNN is overfitting on dataset, however given time further modifications could be made to optimize the model for this dataset."
      ],
      "metadata": {
        "id": "riAfv8_3Q_bF"
      }
    },
    {
      "cell_type": "markdown",
      "source": [
        "##Conclusion"
      ],
      "metadata": {
        "id": "8M4lVLmb2Kg4"
      }
    },
    {
      "cell_type": "markdown",
      "source": [
        "MobileNetV2 has performed very vell with F1 Score of 97.62%, comapred to InceptionV3 and Custom CNN which is overfitting on the dataset. MobileNetV2 is perpose built for embedded and mobile applications, so its the right fit a mobile application, hence MobileNetV2 will be choosen for this project. "
      ],
      "metadata": {
        "id": "rZBacGgRQscy"
      }
    }
  ]
}